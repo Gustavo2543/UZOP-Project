{
 "cells": [
  {
   "cell_type": "code",
   "execution_count": 239,
   "metadata": {},
   "outputs": [],
   "source": [
    "#PAPER TITLE: A Machine Learning Approach for the Classification of Cardiac Arrhythmia\n",
    "#NAME: Gustavo Manuel de Oliveira Bastos Cordeiro\n",
    "#JMBAG: 0036544543"
   ]
  },
  {
   "cell_type": "code",
   "execution_count": 240,
   "metadata": {},
   "outputs": [],
   "source": [
    "import pandas as pd\n",
    "import numpy as np\n",
    "#import warnings\n",
    "#warnings.filterwarnings('ignore')"
   ]
  },
  {
   "cell_type": "code",
   "execution_count": 241,
   "metadata": {},
   "outputs": [],
   "source": [
    "# Import Data Set  \n",
    "url = 'https://archive.ics.uci.edu/ml/machine-learning-databases/arrhythmia/arrhythmia.data'"
   ]
  },
  {
   "cell_type": "code",
   "execution_count": 242,
   "metadata": {},
   "outputs": [],
   "source": [
    "# Loading dataset into Pandas DataFrame\n",
    "\n",
    "lst = range(280)\n",
    "df = pd.read_csv(url, names = lst)"
   ]
  },
  {
   "cell_type": "code",
   "execution_count": 243,
   "metadata": {},
   "outputs": [],
   "source": [
    "# Replace unknown values (?) with NaN (Null)\n",
    "# Standard Scaler treats NaN values as missing values\n",
    "\n",
    "from sklearn.preprocessing import StandardScaler\n",
    "\n",
    "df = df.replace('?', np.NaN)\n",
    "# Separating out the features\n",
    "x = df.loc[:,lst[:-1]].values\n",
    "\n",
    "# Separating out target\n",
    "y = df.loc[:,len(lst) - 1].values\n",
    "\n",
    "# Standardizing the features\n",
    "x_standard = StandardScaler().fit_transform(x)"
   ]
  },
  {
   "cell_type": "code",
   "execution_count": 244,
   "metadata": {},
   "outputs": [],
   "source": [
    "# Impute missing values with KNNImputer algorithm\n",
    "\n",
    "from sklearn.impute import KNNImputer\n",
    "\n",
    "imputer = KNNImputer()\n",
    "x = imputer.fit_transform(x_standard)"
   ]
  },
  {
   "cell_type": "code",
   "execution_count": 245,
   "metadata": {},
   "outputs": [
    {
     "data": {
      "text/plain": "154"
     },
     "execution_count": 245,
     "metadata": {},
     "output_type": "execute_result"
    }
   ],
   "source": [
    "# Obtain the components that represent 99% of the variance of the data set\n",
    "\n",
    "from sklearn.decomposition import PCA\n",
    "\n",
    "pca = PCA(0.99)\n",
    "\n",
    "pca.fit(x)\n",
    "\n",
    "len(pca.explained_variance_ratio_) # Number of components to obtain 99% variance"
   ]
  },
  {
   "cell_type": "code",
   "execution_count": 246,
   "metadata": {},
   "outputs": [],
   "source": [
    "# Apply the Principal Components Algorithm (PCA) to the first 150 components of the data set (as it was done in the paper)\n",
    "\n",
    "pca = PCA(n_components=150)\n",
    "\n",
    "principalComponents = pca.fit_transform(x)\n",
    "\n",
    "lst2 = range(150)\n",
    "principalDf = pd.DataFrame(data = principalComponents, columns= lst2)"
   ]
  },
  {
   "cell_type": "code",
   "execution_count": 247,
   "metadata": {},
   "outputs": [],
   "source": [
    "# Split the reduced data set into train and test data \n",
    "\n",
    "from sklearn.model_selection import train_test_split\n",
    "\n",
    "X = principalDf\n",
    "Y = np.ravel(y) # Transforms the targets into a 1D array\n",
    "\n",
    "X_train, X_test, Y_train, Y_test = train_test_split(X, Y, test_size=125/452, random_state=1) # Use 125 samples as test data (as it was done in the paper) "
   ]
  },
  {
   "cell_type": "code",
   "execution_count": 248,
   "metadata": {},
   "outputs": [],
   "source": [
    "# Import the Classification Algorithms \n",
    "\n",
    "from sklearn.svm import SVC # Support Vector Machines (SVM)\n",
    "from sklearn.linear_model import LogisticRegression # Logistic Regression Algorithm\n",
    "from sklearn.neighbors import KNeighborsClassifier # K-Nearest Neighbors (KNN) Algorithm\n",
    "from sklearn.ensemble import RandomForestClassifier # Random Forest Algorithm\n",
    "from sklearn.pipeline import Pipeline\n",
    "from sklearn.model_selection import GridSearchCV\n",
    "from sklearn.metrics import classification_report, confusion_matrix, accuracy_score"
   ]
  },
  {
   "cell_type": "code",
   "execution_count": 249,
   "metadata": {},
   "outputs": [],
   "source": [
    "# Implement Support Vector Machines (SVM)\n",
    "\n",
    "SVM_pipe = Pipeline([('SVM', SVC())])\n",
    "\n",
    "\n",
    "params = {'SVM__C': [0.001, 0.01, 0.1, 1, 10, 100, 1000],\n",
    "           'SVM__kernel': ['linear', 'poly', 'rbf', 'sigmoid'],\n",
    "           'SVM__gamma': ['scale', 'auto']}\n",
    "\n",
    "\n",
    "gs_SVM = GridSearchCV(SVM_pipe,\n",
    "                      param_grid=params,\n",
    "                      scoring='accuracy',\n",
    "                      cv=5)\n",
    "\n",
    "gs_SVM.fit(X_train, Y_train)\n",
    "gs_SVM.best_params_\n",
    "Y_pred_SVM = gs_SVM.predict(X_test)"
   ]
  },
  {
   "cell_type": "code",
   "execution_count": 228,
   "metadata": {},
   "outputs": [
    {
     "name": "stdout",
     "output_type": "stream",
     "text": [
      "Confusion Matrix:\n",
      "[[67  0  0  0  0  1  0  0  0  0  0]\n",
      " [ 3  8  0  0  0  0  0  0  0  0  0]\n",
      " [ 0  0  7  0  0  0  0  0  0  0  0]\n",
      " [ 0  0  0  1  0  0  0  0  0  0  0]\n",
      " [ 4  0  0  0  1  0  0  0  0  0  0]\n",
      " [ 4  0  0  0  0  0  0  0  0  0  0]\n",
      " [ 1  0  0  0  0  0  0  0  0  0  0]\n",
      " [ 1  0  0  0  0  0  0  3  0  0  0]\n",
      " [ 4  2  0  0  0  0  0  0 10  0  0]\n",
      " [ 2  0  0  0  0  0  0  0  0  0  0]\n",
      " [ 6  0  0  0  0  0  0  0  0  0  0]]\n",
      "Classification Report:\n",
      "              precision    recall  f1-score   support\n",
      "\n",
      "           1       0.73      0.99      0.84        68\n",
      "           2       0.80      0.73      0.76        11\n",
      "           3       1.00      1.00      1.00         7\n",
      "           4       1.00      1.00      1.00         1\n",
      "           5       1.00      0.20      0.33         5\n",
      "           6       0.00      0.00      0.00         4\n",
      "           7       0.00      0.00      0.00         1\n",
      "           9       1.00      0.75      0.86         4\n",
      "          10       1.00      0.62      0.77        16\n",
      "          14       0.00      0.00      0.00         2\n",
      "          16       0.00      0.00      0.00         6\n",
      "\n",
      "    accuracy                           0.78       125\n",
      "   macro avg       0.59      0.48      0.51       125\n",
      "weighted avg       0.73      0.78      0.73       125\n",
      "\n",
      "Accuracy: 0.776\n"
     ]
    }
   ],
   "source": [
    "# Show results of Support Vector Machines (SVM)\n",
    "\n",
    "result = confusion_matrix(Y_test, Y_pred_SVM)\n",
    "print('Confusion Matrix:')\n",
    "print(result)\n",
    "SVM_classification_report = classification_report(Y_test, Y_pred_SVM)\n",
    "print('Classification Report:',)\n",
    "print (SVM_classification_report)\n",
    "SVM_accuracy = accuracy_score(Y_test,Y_pred_SVM)\n",
    "print('Accuracy:',SVM_accuracy)"
   ]
  },
  {
   "cell_type": "code",
   "execution_count": 229,
   "metadata": {},
   "outputs": [],
   "source": [
    "# Implement Logistic Regression Algorithm\n",
    "\n",
    "LR_pipe = Pipeline([('LR', LogisticRegression())])\n",
    "\n",
    "params = {'LR__C': [0.001, 0.01, 0.1, 1, 10, 100, 1000],\n",
    "           'LR__solver': ['newton-cg', 'lbfgs', 'liblinear', 'sag', 'saga']}\n",
    "\n",
    "gs_LR = GridSearchCV(LR_pipe,\n",
    "                      param_grid=params,\n",
    "                      scoring='accuracy',\n",
    "                      cv=5)\n",
    "                      \n",
    "gs_LR.fit(X_train, Y_train)\n",
    "gs_LR.best_params_\n",
    "Y_pred_LR=gs_LR.predict(X_test)"
   ]
  },
  {
   "cell_type": "code",
   "execution_count": 230,
   "metadata": {},
   "outputs": [
    {
     "name": "stdout",
     "output_type": "stream",
     "text": [
      "Confusion Matrix:\n",
      "[[61  1  0  1  0  2  0  0  0  0  3]\n",
      " [ 2  8  1  0  0  0  0  0  0  0  0]\n",
      " [ 0  0  7  0  0  0  0  0  0  0  0]\n",
      " [ 0  0  0  1  0  0  0  0  0  0  0]\n",
      " [ 3  0  0  1  1  0  0  0  0  0  0]\n",
      " [ 1  1  0  0  0  2  0  0  0  0  0]\n",
      " [ 1  0  0  0  0  0  0  0  0  0  0]\n",
      " [ 0  0  0  0  0  0  0  4  0  0  0]\n",
      " [ 3  2  0  0  0  0  0  0 11  0  0]\n",
      " [ 0  0  0  0  0  0  0  0  0  1  1]\n",
      " [ 2  1  1  0  0  1  0  0  0  0  1]]\n",
      "Classification Report:\n",
      "              precision    recall  f1-score   support\n",
      "\n",
      "           1       0.84      0.90      0.87        68\n",
      "           2       0.62      0.73      0.67        11\n",
      "           3       0.78      1.00      0.88         7\n",
      "           4       0.33      1.00      0.50         1\n",
      "           5       1.00      0.20      0.33         5\n",
      "           6       0.40      0.50      0.44         4\n",
      "           7       0.00      0.00      0.00         1\n",
      "           9       1.00      1.00      1.00         4\n",
      "          10       1.00      0.69      0.81        16\n",
      "          14       1.00      0.50      0.67         2\n",
      "          16       0.20      0.17      0.18         6\n",
      "\n",
      "    accuracy                           0.78       125\n",
      "   macro avg       0.65      0.61      0.58       125\n",
      "weighted avg       0.79      0.78      0.77       125\n",
      "\n",
      "Accuracy: 0.776\n"
     ]
    }
   ],
   "source": [
    "# Show results of Logistic Regression Algorithm\n",
    "\n",
    "result = confusion_matrix(Y_test, Y_pred_LR)\n",
    "print('Confusion Matrix:')\n",
    "print(result)\n",
    "LR_classification_report = classification_report(Y_test, Y_pred_LR)\n",
    "print('Classification Report:',)\n",
    "print (LR_classification_report)\n",
    "LR_accuracy = accuracy_score(Y_test,Y_pred_LR)\n",
    "print('Accuracy:',LR_accuracy)"
   ]
  },
  {
   "cell_type": "code",
   "execution_count": 231,
   "metadata": {},
   "outputs": [],
   "source": [
    "# Implement K-Nearest Neighbors (KNN) Algorithm\n",
    "\n",
    "KNN_pipe = Pipeline([('KNN', KNeighborsClassifier())])\n",
    "\n",
    "params = {'KNN__n_neighbors': [1, 2, 3, 5, 7, 9, 10],\n",
    "           'KNN__weights': ['uniform', 'distance'],\n",
    "           'KNN__leaf_size': [15, 20], \n",
    "           'KNN__metric': ['euclidean', 'minkowski']}\n",
    "gs_KNN = GridSearchCV(KNN_pipe,\n",
    "                      param_grid=params,\n",
    "                      scoring='accuracy',\n",
    "                      cv=5)\n",
    "\n",
    "gs_KNN.fit(X_train, Y_train)\n",
    "gs_KNN.best_params_\n",
    "Y_pred_KNN = gs_KNN.predict(X_test)"
   ]
  },
  {
   "cell_type": "code",
   "execution_count": 232,
   "metadata": {},
   "outputs": [
    {
     "name": "stdout",
     "output_type": "stream",
     "text": [
      "Confusion Matrix:\n",
      "[[66  2  0  0  0  0  0  0  0  0  0  0]\n",
      " [10  1  0  0  0  0  0  0  0  0  0  0]\n",
      " [ 3  0  2  0  0  1  0  0  0  0  1  0]\n",
      " [ 0  0  0  1  0  0  0  0  0  0  0  0]\n",
      " [ 3  2  0  0  0  0  0  0  0  0  0  0]\n",
      " [ 2  0  0  0  0  2  0  0  0  0  0  0]\n",
      " [ 1  0  0  0  0  0  0  0  0  0  0  0]\n",
      " [ 1  1  0  0  0  0  0  2  0  0  0  0]\n",
      " [12  0  0  0  0  0  0  0  4  0  0  0]\n",
      " [ 1  0  0  0  0  1  0  0  0  0  0  0]\n",
      " [ 0  0  0  0  0  0  0  0  0  0  0  0]\n",
      " [ 5  0  0  0  0  1  0  0  0  0  0  0]]\n",
      "Classification Report:\n",
      "              precision    recall  f1-score   support\n",
      "\n",
      "           1       0.63      0.97      0.77        68\n",
      "           2       0.17      0.09      0.12        11\n",
      "           3       1.00      0.29      0.44         7\n",
      "           4       1.00      1.00      1.00         1\n",
      "           5       0.00      0.00      0.00         5\n",
      "           6       0.40      0.50      0.44         4\n",
      "           7       0.00      0.00      0.00         1\n",
      "           9       1.00      0.50      0.67         4\n",
      "          10       1.00      0.25      0.40        16\n",
      "          14       0.00      0.00      0.00         2\n",
      "          15       0.00      0.00      0.00         0\n",
      "          16       0.00      0.00      0.00         6\n",
      "\n",
      "    accuracy                           0.62       125\n",
      "   macro avg       0.43      0.30      0.32       125\n",
      "weighted avg       0.60      0.62      0.55       125\n",
      "\n",
      "Accuracy: 0.624\n"
     ]
    }
   ],
   "source": [
    "# Show results of K-Nearest Neighbors (KNN) Algorithm\n",
    "\n",
    "result = confusion_matrix(Y_test, Y_pred_KNN)\n",
    "print('Confusion Matrix:')\n",
    "print(result)\n",
    "KNN_classification_report = classification_report(Y_test, Y_pred_KNN)\n",
    "print('Classification Report:',)\n",
    "print (KNN_classification_report)\n",
    "KNN_accuracy = accuracy_score(Y_test,Y_pred_KNN)\n",
    "print('Accuracy:',KNN_accuracy)"
   ]
  },
  {
   "cell_type": "code",
   "execution_count": 233,
   "metadata": {},
   "outputs": [],
   "source": [
    "# Implement Random Forest Algorithm\n",
    "\n",
    "RF_pipe = Pipeline([('RF', RandomForestClassifier())])\n",
    "\n",
    "\n",
    "params = {'RF__n_estimators': [5, 50, 100, 200],\n",
    "            'RF__max_depth' : [None, 10,20],\n",
    "            'RF__min_samples_split' : [2, 5, 10, 20]}\n",
    "\n",
    "\n",
    "gs_RF = GridSearchCV(RF_pipe,\n",
    "                      param_grid=params,\n",
    "                      scoring='accuracy',\n",
    "                      cv=5)\n",
    "\n",
    "gs_RF.fit(X_train, Y_train)\n",
    "gs_RF.best_params_\n",
    "Y_pred_RF = gs_RF.predict(X_test)"
   ]
  },
  {
   "cell_type": "code",
   "execution_count": 234,
   "metadata": {},
   "outputs": [
    {
     "name": "stdout",
     "output_type": "stream",
     "text": [
      "Confusion Matrix:\n",
      "[[68  0  0  0  0  0  0  0  0  0  0]\n",
      " [ 8  3  0  0  0  0  0  0  0  0  0]\n",
      " [ 7  0  0  0  0  0  0  0  0  0  0]\n",
      " [ 1  0  0  0  0  0  0  0  0  0  0]\n",
      " [ 5  0  0  0  0  0  0  0  0  0  0]\n",
      " [ 4  0  0  0  0  0  0  0  0  0  0]\n",
      " [ 1  0  0  0  0  0  0  0  0  0  0]\n",
      " [ 4  0  0  0  0  0  0  0  0  0  0]\n",
      " [12  0  0  0  0  0  0  0  4  0  0]\n",
      " [ 2  0  0  0  0  0  0  0  0  0  0]\n",
      " [ 6  0  0  0  0  0  0  0  0  0  0]]\n",
      "Classification Report:\n",
      "              precision    recall  f1-score   support\n",
      "\n",
      "           1       0.58      1.00      0.73        68\n",
      "           2       1.00      0.27      0.43        11\n",
      "           3       0.00      0.00      0.00         7\n",
      "           4       0.00      0.00      0.00         1\n",
      "           5       0.00      0.00      0.00         5\n",
      "           6       0.00      0.00      0.00         4\n",
      "           7       0.00      0.00      0.00         1\n",
      "           9       0.00      0.00      0.00         4\n",
      "          10       1.00      0.25      0.40        16\n",
      "          14       0.00      0.00      0.00         2\n",
      "          16       0.00      0.00      0.00         6\n",
      "\n",
      "    accuracy                           0.60       125\n",
      "   macro avg       0.23      0.14      0.14       125\n",
      "weighted avg       0.53      0.60      0.49       125\n",
      "\n",
      "Accuracy: 0.6\n"
     ]
    }
   ],
   "source": [
    "# Show results of Random Forest Algorithm\n",
    "\n",
    "result = confusion_matrix(Y_test, Y_pred_RF)\n",
    "print('Confusion Matrix:')\n",
    "print(result)\n",
    "RF_classification_report = classification_report(Y_test, Y_pred_RF)\n",
    "print('Classification Report:',)\n",
    "print (RF_classification_report)\n",
    "RF_accuracy = accuracy_score(Y_test,Y_pred_RF)\n",
    "print('Accuracy:',RF_accuracy)"
   ]
  },
  {
   "cell_type": "code",
   "execution_count": 235,
   "metadata": {},
   "outputs": [
    {
     "data": {
      "image/png": "[encoded data removed]",
      "text/plain": "<Figure size 432x288 with 1 Axes>"
     },
     "metadata": {
      "needs_background": "light"
     },
     "output_type": "display_data"
    }
   ],
   "source": [
    "# Plot the Accuracy results in a bar graph\n",
    " \n",
    "import matplotlib.pyplot as plt\n",
    "plt.bar(x=['SVM','LR','KNN','RF'],height=[SVM_accuracy,LR_accuracy,KNN_accuracy,RF_accuracy])\n",
    "plt.xlabel('Classifiers')\n",
    "plt.ylabel('Accuracy')\n",
    "plt.grid(linewidth=1, axis='y', alpha=0.5)\n",
    "plt.show()"
   ]
  },
  {
   "cell_type": "code",
   "execution_count": 236,
   "metadata": {},
   "outputs": [
    {
     "data": {
      "image/png": "[encoded data removed]",
      "text/plain": "<Figure size 432x288 with 1 Axes>"
     },
     "metadata": {
      "needs_background": "light"
     },
     "output_type": "display_data"
    }
   ],
   "source": [
    "# Plot the Prediction results in a bar graph\n",
    "\n",
    "import matplotlib.pyplot as plt\n",
    "plt.bar(x=['SVM','LR','KNN','RF'],height= [SVM_accuracy*125,LR_accuracy*125,KNN_accuracy*125,RF_accuracy*125])\n",
    "plt.xlabel('Classifiers')\n",
    "plt.ylabel('Correct Predictions')\n",
    "plt.grid(linewidth=1, axis='y', alpha=0.5)\n",
    "plt.show()"
   ]
  },
  {
   "cell_type": "code",
   "execution_count": 237,
   "metadata": {},
   "outputs": [
    {
     "data": {
      "image/png": "[encoded data removed]",
      "text/plain": "<Figure size 432x288 with 1 Axes>"
     },
     "metadata": {
      "needs_background": "light"
     },
     "output_type": "display_data"
    }
   ],
   "source": [
    "# Plot the Accuracy results in a bar graph\n",
    "\n",
    "x = ['SVM','LR','KNN','RF']\n",
    "\n",
    "y = [SVM_accuracy,LR_accuracy,KNN_accuracy,RF_accuracy]\n",
    "\n",
    "plt.ylabel('Classifiers')\n",
    "plt.xlabel('Accuracy')\n",
    "\n",
    "plt.barh(x, y)\n",
    "\n",
    "for index, value in enumerate(y):\n",
    "\n",
    "    plt.text(value, index, str(value))"
   ]
  },
  {
   "cell_type": "code",
   "execution_count": 238,
   "metadata": {},
   "outputs": [
    {
     "data": {
      "image/png": "[encoded data removed]",
      "text/plain": "<Figure size 432x288 with 1 Axes>"
     },
     "metadata": {
      "needs_background": "light"
     },
     "output_type": "display_data"
    }
   ],
   "source": [
    "# Plot the Prediction results in a bar graph\n",
    "\n",
    "x = ['SVM','LR','KNN','RF']\n",
    "\n",
    "y = [SVM_accuracy*125,LR_accuracy*125,KNN_accuracy*125,RF_accuracy*125]\n",
    "\n",
    "plt.barh(x, y)\n",
    "\n",
    "plt.ylabel('Classifiers')\n",
    "plt.xlabel('Correct Predictions')\n",
    "\n",
    "for index, value in enumerate(y):\n",
    "\n",
    "    plt.text(value, index, str(value))"
   ]
  }
 ],
 "metadata": {
  "kernelspec": {
   "display_name": "Python 3.8.8 64-bit ('base': conda)",
   "metadata": {
    "interpreter": {
     "hash": "3c17e3122d25d527b33a00365b6902e14e8de10f291729ab7d4e45a04e4f03d9"
    }
   },
   "name": "python3"
  },
  "language_info": {
   "codemirror_mode": {
    "name": "ipython",
    "version": 3
   },
   "file_extension": ".py",
   "mimetype": "text/x-python",
   "name": "python",
   "nbconvert_exporter": "python",
   "pygments_lexer": "ipython3",
   "version": "3.8.8"
  },
  "orig_nbformat": 2
 },
 "nbformat": 4,
 "nbformat_minor": 2
}